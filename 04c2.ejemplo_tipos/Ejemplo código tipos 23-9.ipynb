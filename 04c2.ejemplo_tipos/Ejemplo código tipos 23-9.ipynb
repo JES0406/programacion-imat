{
 "cells": [
  {
   "cell_type": "code",
   "execution_count": 23,
   "id": "34a5421b",
   "metadata": {},
   "outputs": [],
   "source": [
    "edad = 23"
   ]
  },
  {
   "cell_type": "code",
   "execution_count": 24,
   "id": "0b09e942",
   "metadata": {},
   "outputs": [
    {
     "data": {
      "text/plain": [
       "int"
      ]
     },
     "execution_count": 24,
     "metadata": {},
     "output_type": "execute_result"
    }
   ],
   "source": [
    "type(edad)"
   ]
  },
  {
   "cell_type": "code",
   "execution_count": 25,
   "id": "ed066703",
   "metadata": {},
   "outputs": [
    {
     "data": {
      "text/plain": [
       "23"
      ]
     },
     "execution_count": 25,
     "metadata": {},
     "output_type": "execute_result"
    }
   ],
   "source": [
    "edad"
   ]
  },
  {
   "cell_type": "code",
   "execution_count": 26,
   "id": "77d1bb2e",
   "metadata": {},
   "outputs": [
    {
     "name": "stdout",
     "output_type": "stream",
     "text": [
      "Edad23\n"
     ]
    }
   ],
   "source": [
    "edad_str = input(\"Edad\")"
   ]
  },
  {
   "cell_type": "code",
   "execution_count": 27,
   "id": "ccfa042a",
   "metadata": {},
   "outputs": [
    {
     "data": {
      "text/plain": [
       "'23'"
      ]
     },
     "execution_count": 27,
     "metadata": {},
     "output_type": "execute_result"
    }
   ],
   "source": [
    "edad_str"
   ]
  },
  {
   "cell_type": "code",
   "execution_count": 28,
   "id": "e2f60f87",
   "metadata": {},
   "outputs": [
    {
     "data": {
      "text/plain": [
       "str"
      ]
     },
     "execution_count": 28,
     "metadata": {},
     "output_type": "execute_result"
    }
   ],
   "source": [
    "type(edad_str)"
   ]
  },
  {
   "cell_type": "code",
   "execution_count": 29,
   "id": "95f99014",
   "metadata": {},
   "outputs": [],
   "source": [
    "edad_str = edad"
   ]
  },
  {
   "cell_type": "code",
   "execution_count": 30,
   "id": "a45c3bc8",
   "metadata": {},
   "outputs": [
    {
     "data": {
      "text/plain": [
       "int"
      ]
     },
     "execution_count": 30,
     "metadata": {},
     "output_type": "execute_result"
    }
   ],
   "source": [
    "type(edad_str)"
   ]
  },
  {
   "cell_type": "code",
   "execution_count": 21,
   "id": "39f6576e",
   "metadata": {},
   "outputs": [],
   "source": [
    "edad = edad_str"
   ]
  },
  {
   "cell_type": "code",
   "execution_count": 22,
   "id": "606fa3a1",
   "metadata": {},
   "outputs": [
    {
     "data": {
      "text/plain": [
       "str"
      ]
     },
     "execution_count": 22,
     "metadata": {},
     "output_type": "execute_result"
    }
   ],
   "source": [
    "type(edad)"
   ]
  },
  {
   "cell_type": "code",
   "execution_count": 31,
   "id": "0589befd",
   "metadata": {},
   "outputs": [
    {
     "data": {
      "text/plain": [
       "'0b11000000'"
      ]
     },
     "execution_count": 31,
     "metadata": {},
     "output_type": "execute_result"
    }
   ],
   "source": [
    "bin(192)"
   ]
  },
  {
   "cell_type": "code",
   "execution_count": 32,
   "id": "13472e14",
   "metadata": {},
   "outputs": [
    {
     "data": {
      "text/plain": [
       "'0b110'"
      ]
     },
     "execution_count": 32,
     "metadata": {},
     "output_type": "execute_result"
    }
   ],
   "source": [
    "bin(6)"
   ]
  },
  {
   "cell_type": "code",
   "execution_count": 15,
   "id": "b3934f08",
   "metadata": {},
   "outputs": [],
   "source": [
    "a = \"1234\""
   ]
  },
  {
   "cell_type": "code",
   "execution_count": 16,
   "id": "fc288bbe",
   "metadata": {},
   "outputs": [
    {
     "data": {
      "text/plain": [
       "str"
      ]
     },
     "execution_count": 16,
     "metadata": {},
     "output_type": "execute_result"
    }
   ],
   "source": [
    "type(a)"
   ]
  },
  {
   "cell_type": "code",
   "execution_count": 17,
   "id": "53f48099",
   "metadata": {},
   "outputs": [],
   "source": [
    "a = 1234"
   ]
  },
  {
   "cell_type": "code",
   "execution_count": 18,
   "id": "78b24b8b",
   "metadata": {},
   "outputs": [
    {
     "data": {
      "text/plain": [
       "int"
      ]
     },
     "execution_count": 18,
     "metadata": {},
     "output_type": "execute_result"
    }
   ],
   "source": [
    "type(a)"
   ]
  },
  {
   "cell_type": "code",
   "execution_count": 12,
   "id": "0b00af8e",
   "metadata": {},
   "outputs": [
    {
     "name": "stdout",
     "output_type": "stream",
     "text": [
      "6\n",
      "15\n"
     ]
    }
   ],
   "source": [
    "numero = 5\n",
    "contador = 1\n",
    "\n",
    "sumatorio = 0\n",
    "factorial = 1\n",
    "\n",
    "while contador <= numero:\n",
    "    if contador % 2 == 0:\n",
    "        sumatorio = sumatorio + contador\n",
    "    else:\n",
    "        factorial = factorial * contador\n",
    "    contador = contador + 1\n",
    "    \n",
    "print(sumatorio)\n",
    "print(factorial)"
   ]
  },
  {
   "cell_type": "code",
   "execution_count": 25,
   "id": "b15be3c7",
   "metadata": {},
   "outputs": [],
   "source": [
    "a = 34.4"
   ]
  },
  {
   "cell_type": "code",
   "execution_count": 26,
   "id": "7e8ef780",
   "metadata": {},
   "outputs": [],
   "source": [
    "a = a + 4"
   ]
  },
  {
   "cell_type": "code",
   "execution_count": 23,
   "id": "a62de680",
   "metadata": {},
   "outputs": [
    {
     "data": {
      "text/plain": [
       "tuple"
      ]
     },
     "execution_count": 23,
     "metadata": {},
     "output_type": "execute_result"
    }
   ],
   "source": [
    "type(a)"
   ]
  },
  {
   "cell_type": "code",
   "execution_count": 28,
   "id": "299c21a6",
   "metadata": {},
   "outputs": [
    {
     "data": {
      "text/plain": [
       "int"
      ]
     },
     "execution_count": 28,
     "metadata": {},
     "output_type": "execute_result"
    }
   ],
   "source": [
    "type(2//2)"
   ]
  },
  {
   "cell_type": "code",
   "execution_count": 29,
   "id": "2ef5eb61",
   "metadata": {},
   "outputs": [],
   "source": [
    "a = 0.000045"
   ]
  },
  {
   "cell_type": "code",
   "execution_count": 30,
   "id": "0fbddd56",
   "metadata": {},
   "outputs": [
    {
     "data": {
      "text/plain": [
       "4.5e-05"
      ]
     },
     "execution_count": 30,
     "metadata": {},
     "output_type": "execute_result"
    }
   ],
   "source": [
    "a"
   ]
  },
  {
   "cell_type": "code",
   "execution_count": 31,
   "id": "6ea690eb",
   "metadata": {},
   "outputs": [
    {
     "data": {
      "text/plain": [
       "4.5e-05"
      ]
     },
     "execution_count": 31,
     "metadata": {},
     "output_type": "execute_result"
    }
   ],
   "source": [
    "4.5*10**-5"
   ]
  },
  {
   "cell_type": "code",
   "execution_count": 32,
   "id": "c26c78ae",
   "metadata": {},
   "outputs": [
    {
     "data": {
      "text/plain": [
       "3456.7"
      ]
     },
     "execution_count": 32,
     "metadata": {},
     "output_type": "execute_result"
    }
   ],
   "source": [
    "3456.7"
   ]
  },
  {
   "cell_type": "code",
   "execution_count": 33,
   "id": "1506d62f",
   "metadata": {},
   "outputs": [
    {
     "data": {
      "text/plain": [
       "231232132131231.3"
      ]
     },
     "execution_count": 33,
     "metadata": {},
     "output_type": "execute_result"
    }
   ],
   "source": [
    "231232132131231.312312321312"
   ]
  },
  {
   "cell_type": "code",
   "execution_count": 34,
   "id": "923c049f",
   "metadata": {},
   "outputs": [],
   "source": [
    "error = True"
   ]
  },
  {
   "cell_type": "code",
   "execution_count": 42,
   "id": "29297e41",
   "metadata": {},
   "outputs": [
    {
     "name": "stdout",
     "output_type": "stream",
     "text": [
      "True\n"
     ]
    }
   ],
   "source": [
    "numero1 = 3\n",
    "numero2 = 3\n",
    "\n",
    "comparacion = (numero1 == numero2)\n",
    "type(comparacion)\n",
    "\n",
    "print(comparacion)"
   ]
  },
  {
   "cell_type": "code",
   "execution_count": 50,
   "id": "dfdf01e9",
   "metadata": {},
   "outputs": [
    {
     "name": "stdout",
     "output_type": "stream",
     "text": [
      "es 3\n"
     ]
    }
   ],
   "source": [
    "comparacion = numero1 == numero2 \n",
    "if comparacion:\n",
    "    print(\"es 3\")"
   ]
  },
  {
   "cell_type": "code",
   "execution_count": 51,
   "id": "f38feda6",
   "metadata": {},
   "outputs": [
    {
     "name": "stdout",
     "output_type": "stream",
     "text": [
      "4\n"
     ]
    }
   ],
   "source": [
    "print(2+2)"
   ]
  },
  {
   "cell_type": "code",
   "execution_count": 53,
   "id": "2f3379d9",
   "metadata": {},
   "outputs": [
    {
     "name": "stdout",
     "output_type": "stream",
     "text": [
      "0\n"
     ]
    }
   ],
   "source": [
    "print(True - 1)"
   ]
  },
  {
   "cell_type": "code",
   "execution_count": 62,
   "id": "be73f6c2",
   "metadata": {},
   "outputs": [
    {
     "name": "stdout",
     "output_type": "stream",
     "text": [
      "edad: 22a\n"
     ]
    },
    {
     "data": {
      "text/plain": [
       "str"
      ]
     },
     "execution_count": 62,
     "metadata": {},
     "output_type": "execute_result"
    }
   ],
   "source": [
    "booleano = True\n",
    "temperatura = 27.4\n",
    "edad = 22\n",
    "edad_str = input(\"edad: \")\n",
    "type(edad_str)"
   ]
  },
  {
   "cell_type": "code",
   "execution_count": 63,
   "id": "d0bb5bb9",
   "metadata": {},
   "outputs": [
    {
     "ename": "ValueError",
     "evalue": "invalid literal for int() with base 10: '22a'",
     "output_type": "error",
     "traceback": [
      "\u001b[1;31m---------------------------------------------------------------------------\u001b[0m",
      "\u001b[1;31mValueError\u001b[0m                                Traceback (most recent call last)",
      "Input \u001b[1;32mIn [63]\u001b[0m, in \u001b[0;36m<cell line: 1>\u001b[1;34m()\u001b[0m\n\u001b[1;32m----> 1\u001b[0m edad_int \u001b[38;5;241m=\u001b[39m \u001b[38;5;28;43mint\u001b[39;49m\u001b[43m(\u001b[49m\u001b[43medad_str\u001b[49m\u001b[43m)\u001b[49m\n",
      "\u001b[1;31mValueError\u001b[0m: invalid literal for int() with base 10: '22a'"
     ]
    }
   ],
   "source": [
    "edad_int = int(edad_str)"
   ]
  },
  {
   "cell_type": "code",
   "execution_count": 60,
   "id": "0295849b",
   "metadata": {},
   "outputs": [
    {
     "ename": "TypeError",
     "evalue": "'>' not supported between instances of 'str' and 'int'",
     "output_type": "error",
     "traceback": [
      "\u001b[1;31m---------------------------------------------------------------------------\u001b[0m",
      "\u001b[1;31mTypeError\u001b[0m                                 Traceback (most recent call last)",
      "Input \u001b[1;32mIn [60]\u001b[0m, in \u001b[0;36m<cell line: 1>\u001b[1;34m()\u001b[0m\n\u001b[1;32m----> 1\u001b[0m \u001b[38;5;28;01mif\u001b[39;00m \u001b[43medad_str\u001b[49m\u001b[43m \u001b[49m\u001b[38;5;241;43m>\u001b[39;49m\u001b[43m \u001b[49m\u001b[38;5;241;43m33\u001b[39;49m:\n\u001b[0;32m      2\u001b[0m     \u001b[38;5;28mprint\u001b[39m(\u001b[38;5;124m\"\u001b[39m\u001b[38;5;124ma\u001b[39m\u001b[38;5;124m\"\u001b[39m)\n",
      "\u001b[1;31mTypeError\u001b[0m: '>' not supported between instances of 'str' and 'int'"
     ]
    }
   ],
   "source": [
    "if edad_str > 33:\n",
    "    print(\"a\")"
   ]
  },
  {
   "cell_type": "code",
   "execution_count": 61,
   "id": "152fba1c",
   "metadata": {},
   "outputs": [],
   "source": [
    "if edad_int > 33:\n",
    "    print(\"a\")"
   ]
  },
  {
   "cell_type": "code",
   "execution_count": 66,
   "id": "d4f684a5",
   "metadata": {},
   "outputs": [
    {
     "data": {
      "text/plain": [
       "23"
      ]
     },
     "execution_count": 66,
     "metadata": {},
     "output_type": "execute_result"
    }
   ],
   "source": [
    "numero_entero = int (23.4)\n",
    "numero_entero"
   ]
  },
  {
   "cell_type": "code",
   "execution_count": null,
   "id": "6ffa4bc7",
   "metadata": {},
   "outputs": [],
   "source": []
  }
 ],
 "metadata": {
  "kernelspec": {
   "display_name": "Python 3.9.12 ('base')",
   "language": "python",
   "name": "python3"
  },
  "language_info": {
   "codemirror_mode": {
    "name": "ipython",
    "version": 3
   },
   "file_extension": ".py",
   "mimetype": "text/x-python",
   "name": "python",
   "nbconvert_exporter": "python",
   "pygments_lexer": "ipython3",
   "version": "3.9.12"
  },
  "vscode": {
   "interpreter": {
    "hash": "48103ddf36c196c5694fbed1a662071ffaf5a835b896910c6b7ad402df402c84"
   }
  }
 },
 "nbformat": 4,
 "nbformat_minor": 5
}
